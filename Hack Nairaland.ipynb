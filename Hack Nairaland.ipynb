{
 "cells": [
  {
   "cell_type": "markdown",
   "metadata": {},
   "source": [
    "# Hack [nairaland.com](https://www.nairaland.com/)\n",
    "\n",
    "Please read the accompanying `README` before proceeding.\n",
    "\n",
    "Several demos of this project in action are provided below. Just change the cell type to `code` to run the examples."
   ]
  },
  {
   "cell_type": "code",
   "execution_count": 1,
   "metadata": {},
   "outputs": [],
   "source": [
    "import hack"
   ]
  },
  {
   "cell_type": "code",
   "execution_count": null,
   "metadata": {},
   "outputs": [],
   "source": [
    "hack.export_post_ms_word('https://www.nairaland.com/4862847/presidency-well-teach-nursery-school', stop=2)\n",
    "\n",
    "hack.export_user_comments_to_html(username=\"VargasVee\", max_page=3)\n",
    "hack.export_user_comments_to_excel(username=\"preccy69\", max_page=3)\n",
    "\n",
    "hack.export_topics_to_html(section='romance', start=0, stop=4)\n",
    "hack.export_topics_to_excel(section='romance', start=0, stop=4)"
   ]
  },
  {
   "cell_type": "markdown",
   "metadata": {},
   "source": [
    "# Unpacking UserCommentHistory\n",
    "\n",
    "import textwrap\n",
    "\n",
    "for page in list(UserCommentHistory(\"preccy69\").scrap_comments_for_page_range(start=0, stop=1)):\n",
    "    for section, topic_plus_comment in page.items():\n",
    "        print(\"\\n\\n\", \"*\"*40, section, \"*\"*40)\n",
    "        print(topic_plus_comment.topic.upper()) # for differentiation only\n",
    "\n",
    "        parsed_comment = topic_plus_comment.parsed_comment # a namedtuple instance\n",
    "        print(parsed_comment.focus_user_ordered_dict)\n",
    "\n",
    "        quotes = parsed_comment.quotes_ordered_dict\n",
    "        for username, comment in quotes.items():\n",
    "            print(\" \"*8)\n",
    "            print(textwrap.indent(username, \"    \"))\n",
    "            print(textwrap.indent(comment, \"    \"))\n",
    "        print(\"_\"*100)\n",
    "    print(\"\\n\\n\")"
   ]
  },
  {
   "cell_type": "markdown",
   "metadata": {},
   "source": [
    "# Unpacking TopicCollector\n",
    "\n",
    "import textwrap\n",
    "\n",
    "for page in TopicCollector(section='politics').scrap_topics_for_range_of_pages(start=0, stop=1):\n",
    "    for topic in list(page):\n",
    "        print(topic.poster)\n",
    "        print(textwrap.indent(topic.title, \"    \"))\n",
    "        print(textwrap.indent(topic.url, \"    \"))\n",
    "        print(textwrap.indent(topic.comments, \"    \"), \" comments\") # str is necessary because of the way textwrap works\n",
    "        print(textwrap.indent(topic.views, \"    \"), \" views\")\n",
    "        print(textwrap.indent(topic.last_commenter, \"    \"), \" commented last\")\n",
    "        print(textwrap.indent(topic.other_meta), \"    \")\n",
    "        print()"
   ]
  },
  {
   "cell_type": "markdown",
   "metadata": {},
   "source": [
    "# Unpacking PostCollector\n",
    "\n",
    "import textwrap\n",
    "\n",
    "post = hack.PostCollector('https://www.nairaland.com/4862847/presidency-well-teach-nursery-school')\n",
    "print(post.get_title())\n",
    "for page in list(post.scrap_comments_for_range_of_pages(start=0, stop=2)):\n",
    "    for moniker, parsed_comment in page.items():\n",
    "        print(moniker)\n",
    "        print(parsed_comment.focus_user_ordered_dict)\n",
    "        for commenter, comment in parsed_comment.quotes_ordered_dict.items():\n",
    "            print(textwrap.indent(commenter, \"    \"))\n",
    "            print(textwrap.indent(comment, \"    \"))\n",
    "        print(\"\\n\", \"*\"*100, \"\\n\")\n",
    "    print(\"+\"*40, \" new page \", \"+\"*40)"
   ]
  }
 ],
 "metadata": {
  "kernelspec": {
   "display_name": "Hack nairaland",
   "language": "python",
   "name": "python3"
  },
  "language_info": {
   "codemirror_mode": {
    "name": "ipython",
    "version": 3
   },
   "file_extension": ".py",
   "mimetype": "text/x-python",
   "name": "python",
   "nbconvert_exporter": "python",
   "pygments_lexer": "ipython3",
   "version": "3.6.5"
  }
 },
 "nbformat": 4,
 "nbformat_minor": 2
}
