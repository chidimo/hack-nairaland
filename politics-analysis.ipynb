{
 "cells": [
  {
   "cell_type": "markdown",
   "metadata": {},
   "source": [
    "# Analysis of titles in politics section of nairaland\n",
    "\n",
    "## Problem statement\n",
    "\n",
    "There's no problem statement. This is just an exercise\n",
    "\n",
    "## Methodology\n",
    "\n",
    "1. Grab a list of links from <nairaland.com>\n",
    "1. Filter titles on ones where the word 'buhari', 'pmb' occurs. Ignore case."
   ]
  },
  {
   "cell_type": "code",
   "execution_count": null,
   "metadata": {},
   "outputs": [],
   "source": [
    "from pathlib import Path\n",
    "import pandas as pd\n",
    "\n",
    "import hack"
   ]
  },
  {
   "cell_type": "code",
   "execution_count": null,
   "metadata": {},
   "outputs": [],
   "source": [
    "def check_string_occurrence_by_and(word, *args):\n",
    "    \"\"\"Returns True if every arg in *args occurs in word\"\"\"    \n",
    "    if all([arg in word for arg in args]):\n",
    "        return True\n",
    "    return False\n",
    "\n",
    "assert check_string_occurrence_by_and('goat is a big dog and cat is good', 'dog', 'cat') == True\n",
    "assert check_string_occurrence_by_and('goat is a big dog and cat is good', 'dog', 'cat, cow') == False\n",
    "\n",
    "def check_string_occurrence_by_or(word, *args):\n",
    "    \"\"\"Returns True if every arg in *args occurs in word\"\"\"    \n",
    "    if any([arg in word for arg in args]):\n",
    "        return True\n",
    "    return False\n",
    "\n",
    "assert check_string_occurrence_by_or('goat is a big dog and cat is good', 'dog', 'puss', 'camel') == True\n",
    "assert check_string_occurrence_by_or('goat is a big dog and cat is good', 'dog', 'cat, cow') == True"
   ]
  },
  {
   "cell_type": "code",
   "execution_count": null,
   "metadata": {
    "scrolled": true
   },
   "outputs": [],
   "source": [
    "# Each politics page has about 60 topics.\n",
    "# Thus we're looking at generating an excel file with 60 x 1000 = 60000 rows.\n",
    "# We can avoid generating a very large excel file by splitting the topic export into chunks of 100 pages each.\n",
    "# This way we get a 10 files each of which has about 6000 rows\n",
    "# We can then read these into pandas and join them for our analysis.\n",
    "\n",
    "for i in range(100, 1000, 100):\n",
    "    hack.export_topics_to_excel(section='politics', start=i, stop=i+99)\n",
    "    print(i, i+99)"
   ]
  },
  {
   "cell_type": "code",
   "execution_count": null,
   "metadata": {},
   "outputs": [],
   "source": [
    "# find and collect all the generated excel files\n",
    "excel_files = Path(Path.joinpath(\n",
    "    Path().resolve(), 'politics-analysis')\n",
    "        ).glob('*.xlsx') # generator\n",
    "excel_files = list(excel_files)"
   ]
  },
  {
   "cell_type": "code",
   "execution_count": null,
   "metadata": {},
   "outputs": [],
   "source": [
    "frames = [pd.read_excel(f) for f in excel_files] # list comprehension for speed\n",
    "df = pd.concat(frames, ignore_index=True) # combine the data into a single frame\n",
    "df"
   ]
  },
  {
   "cell_type": "code",
   "execution_count": null,
   "metadata": {},
   "outputs": [],
   "source": [
    "df.style.set_properties(**{'text-align': 'left', 'background-color': '#DF691A', 'color' : 'white', 'font-size' : '125%'})"
   ]
  },
  {
   "cell_type": "code",
   "execution_count": null,
   "metadata": {},
   "outputs": [],
   "source": [
    "\n",
    "check_string_occurrence_by_or('goat is a big dog and cat is good', 'dog', 'puss', 'camel')"
   ]
  },
  {
   "cell_type": "code",
   "execution_count": null,
   "metadata": {},
   "outputs": [],
   "source": []
  }
 ],
 "metadata": {
  "kernelspec": {
   "display_name": "Hack nairaland",
   "language": "python",
   "name": "python3"
  },
  "language_info": {
   "codemirror_mode": {
    "name": "ipython",
    "version": 3
   },
   "file_extension": ".py",
   "mimetype": "text/x-python",
   "name": "python",
   "nbconvert_exporter": "python",
   "pygments_lexer": "ipython3",
   "version": "3.6.5"
  }
 },
 "nbformat": 4,
 "nbformat_minor": 2
}
